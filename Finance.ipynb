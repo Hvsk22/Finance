{
 "cells": [
  {
   "cell_type": "code",
   "execution_count": 1,
   "metadata": {
    "collapsed": true
   },
   "outputs": [],
   "source": [
    "import pandas as pd\n",
    "from tensorflow.keras.models import Sequential\n",
    "from tensorflow.keras.layers import Dense, Activation, LayerNormalization, BatchNormalization\n",
    "from tensorflow.keras.optimizers import Adam, SGD\n",
    "from tensorflow.keras.callbacks import EarlyStopping\n",
    "import numpy as np\n",
    "from tensorflow.keras.callbacks import LearningRateScheduler\n",
    "import math"
   ]
  },
  {
   "cell_type": "code",
   "execution_count": 2,
   "metadata": {
    "collapsed": true
   },
   "outputs": [],
   "source": [
    "pd.set_option('display.max_rows', 500)\n",
    "pd.set_option('display.max_columns', 500)\n",
    "pd.set_option('display.width', 1000)"
   ]
  },
  {
   "cell_type": "code",
   "execution_count": 3,
   "metadata": {
    "collapsed": true
   },
   "outputs": [],
   "source": [
    "Z_eff = pd.read_csv('data_Z_eff.csv',header=None)\n",
    "R_eff = pd.read_csv('data_R_eff.csv',header = None)\n",
    "R_org_eff = pd.read_csv('data_R_org_eff.csv',header = None)\n",
    "group_ind = pd.read_csv('data_group_ind.csv',header =None)"
   ]
  },
  {
   "cell_type": "code",
   "execution_count": 4,
   "metadata": {
    "collapsed": true
   },
   "outputs": [],
   "source": [
    "t_train_start = list(range(0,41*12+1,12))\n",
    "t_train_end =[x+120 for x in t_train_start]\n",
    "t_val_start= [x for x in t_train_end]\n",
    "t_val_end = [x+60 for x in t_val_start]\n",
    "t_test_start = [x for x in t_val_end]\n",
    "t_test_end = [x+12 for x in t_test_start]\n",
    "t_test_end[41]=678"
   ]
  },
  {
   "cell_type": "code",
   "execution_count": 5,
   "metadata": {
    "collapsed": true
   },
   "outputs": [],
   "source": [
    "train_start = group_ind.iloc[t_train_start][0].to_list()\n",
    "train_end = group_ind.iloc[t_train_end][0].to_list()\n",
    "test_start = group_ind.iloc[t_test_start][0].to_list()\n",
    "test_end = group_ind.iloc[t_test_end][0].to_list()\n",
    "val_start = group_ind.iloc[t_val_start][0].to_list()\n",
    "val_end = group_ind.iloc[t_val_end][0].to_list()                         "
   ]
  },
  {
   "cell_type": "code",
   "execution_count": 6,
   "metadata": {
    "collapsed": true
   },
   "outputs": [],
   "source": [
    "early_stop = EarlyStopping(monitor='val_loss', mode='min', verbose=1, patience=2)"
   ]
  },
  {
   "cell_type": "code",
   "execution_count": null,
   "metadata": {
    "collapsed": true
   },
   "outputs": [],
   "source": []
  },
  {
   "cell_type": "code",
   "execution_count": 7,
   "metadata": {},
   "outputs": [
    {
     "name": "stdout",
     "output_type": "stream",
     "text": [
      "Epoch 1/600\n",
      "3212/3212 [==============================] - 9s 2ms/step - loss: 0.0181 - val_loss: 0.0084\n",
      "Epoch 2/600\n",
      "3212/3212 [==============================] - 7s 2ms/step - loss: 0.0074 - val_loss: 0.0083\n",
      "Epoch 3/600\n",
      "3212/3212 [==============================] - 8s 2ms/step - loss: 0.0073 - val_loss: 0.0082\n",
      "Epoch 4/600\n",
      "3212/3212 [==============================] - 7s 2ms/step - loss: 0.0073 - val_loss: 0.0084\n",
      "Epoch 5/600\n",
      "3212/3212 [==============================] - 7s 2ms/step - loss: 0.0072 - val_loss: 0.0084\n",
      "Epoch 00005: early stopping\n"
     ]
    },
    {
     "name": "stderr",
     "output_type": "stream",
     "text": [
      "<ipython-input-7-3da047f01ae9>:49: SettingWithCopyWarning: \n",
      "A value is trying to be set on a copy of a slice from a DataFrame.\n",
      "Try using .loc[row_indexer,col_indexer] = value instead\n",
      "\n",
      "See the caveats in the documentation: https://pandas.pydata.org/pandas-docs/stable/user_guide/indexing.html#returning-a-view-versus-a-copy\n",
      "  yorg_test['prediction'] = model.predict(X_test)\n"
     ]
    },
    {
     "name": "stdout",
     "output_type": "stream",
     "text": [
      "Epoch 1/600\n",
      "3504/3504 [==============================] - 10s 2ms/step - loss: 0.0237 - val_loss: 0.0078\n",
      "Epoch 2/600\n",
      "3504/3504 [==============================] - 8s 2ms/step - loss: 0.0079 - val_loss: 0.0076\n",
      "Epoch 3/600\n",
      "3504/3504 [==============================] - 8s 2ms/step - loss: 0.0078 - val_loss: 0.0076\n",
      "Epoch 4/600\n",
      "3504/3504 [==============================] - 8s 2ms/step - loss: 0.0078 - val_loss: 0.0075\n",
      "Epoch 5/600\n",
      "3504/3504 [==============================] - 8s 2ms/step - loss: 0.0077 - val_loss: 0.0075\n",
      "Epoch 6/600\n",
      "3504/3504 [==============================] - 8s 2ms/step - loss: 0.0077 - val_loss: 0.0076\n",
      "Epoch 00006: early stopping\n"
     ]
    },
    {
     "name": "stderr",
     "output_type": "stream",
     "text": [
      "<ipython-input-7-3da047f01ae9>:49: SettingWithCopyWarning: \n",
      "A value is trying to be set on a copy of a slice from a DataFrame.\n",
      "Try using .loc[row_indexer,col_indexer] = value instead\n",
      "\n",
      "See the caveats in the documentation: https://pandas.pydata.org/pandas-docs/stable/user_guide/indexing.html#returning-a-view-versus-a-copy\n",
      "  yorg_test['prediction'] = model.predict(X_test)\n"
     ]
    },
    {
     "name": "stdout",
     "output_type": "stream",
     "text": [
      "Epoch 1/600\n",
      "3704/3704 [==============================] - 10s 2ms/step - loss: 0.0160 - val_loss: 0.0072\n",
      "Epoch 2/600\n",
      "3704/3704 [==============================] - 9s 2ms/step - loss: 0.0084 - val_loss: 0.0074\n",
      "Epoch 3/600\n",
      "3704/3704 [==============================] - 8s 2ms/step - loss: 0.0084 - val_loss: 0.0071\n",
      "Epoch 4/600\n",
      "3704/3704 [==============================] - 9s 2ms/step - loss: 0.0083 - val_loss: 0.0072\n",
      "Epoch 5/600\n",
      "3704/3704 [==============================] - 9s 2ms/step - loss: 0.0082 - val_loss: 0.0071\n",
      "Epoch 6/600\n",
      "3704/3704 [==============================] - 9s 2ms/step - loss: 0.0082 - val_loss: 0.0072\n",
      "Epoch 7/600\n",
      "3704/3704 [==============================] - 8s 2ms/step - loss: 0.0082 - val_loss: 0.0072\n",
      "Epoch 00007: early stopping\n"
     ]
    },
    {
     "name": "stderr",
     "output_type": "stream",
     "text": [
      "<ipython-input-7-3da047f01ae9>:49: SettingWithCopyWarning: \n",
      "A value is trying to be set on a copy of a slice from a DataFrame.\n",
      "Try using .loc[row_indexer,col_indexer] = value instead\n",
      "\n",
      "See the caveats in the documentation: https://pandas.pydata.org/pandas-docs/stable/user_guide/indexing.html#returning-a-view-versus-a-copy\n",
      "  yorg_test['prediction'] = model.predict(X_test)\n"
     ]
    },
    {
     "name": "stdout",
     "output_type": "stream",
     "text": [
      "Epoch 1/600\n",
      "3942/3942 [==============================] - 11s 2ms/step - loss: 0.0120 - val_loss: 0.0076\n",
      "Epoch 2/600\n",
      "3942/3942 [==============================] - 9s 2ms/step - loss: 0.0084 - val_loss: 0.0076\n",
      "Epoch 3/600\n",
      "3942/3942 [==============================] - 9s 2ms/step - loss: 0.0084 - val_loss: 0.0076\n",
      "Epoch 4/600\n",
      "3942/3942 [==============================] - 9s 2ms/step - loss: 0.0083 - val_loss: 0.0076\n",
      "Epoch 5/600\n",
      "3942/3942 [==============================] - 9s 2ms/step - loss: 0.0083 - val_loss: 0.0075\n",
      "Epoch 6/600\n",
      "3942/3942 [==============================] - 9s 2ms/step - loss: 0.0082 - val_loss: 0.0075\n",
      "Epoch 7/600\n",
      "3942/3942 [==============================] - 9s 2ms/step - loss: 0.0082 - val_loss: 0.0075\n",
      "Epoch 00007: early stopping\n"
     ]
    },
    {
     "name": "stderr",
     "output_type": "stream",
     "text": [
      "<ipython-input-7-3da047f01ae9>:49: SettingWithCopyWarning: \n",
      "A value is trying to be set on a copy of a slice from a DataFrame.\n",
      "Try using .loc[row_indexer,col_indexer] = value instead\n",
      "\n",
      "See the caveats in the documentation: https://pandas.pydata.org/pandas-docs/stable/user_guide/indexing.html#returning-a-view-versus-a-copy\n",
      "  yorg_test['prediction'] = model.predict(X_test)\n"
     ]
    },
    {
     "name": "stdout",
     "output_type": "stream",
     "text": [
      "Epoch 1/600\n",
      "4192/4192 [==============================] - 11s 2ms/step - loss: 0.0218 - val_loss: 0.0081\n",
      "Epoch 2/600\n",
      "4192/4192 [==============================] - 10s 2ms/step - loss: 0.0083 - val_loss: 0.0079\n",
      "Epoch 3/600\n",
      "4192/4192 [==============================] - 10s 2ms/step - loss: 0.0081 - val_loss: 0.0079\n",
      "Epoch 4/600\n",
      "4192/4192 [==============================] - 10s 2ms/step - loss: 0.0081 - val_loss: 0.0079\n",
      "Epoch 5/600\n",
      "4192/4192 [==============================] - 10s 2ms/step - loss: 0.0080 - val_loss: 0.0079\n",
      "Epoch 6/600\n",
      "4192/4192 [==============================] - 10s 2ms/step - loss: 0.0080 - val_loss: 0.0078\n",
      "Epoch 7/600\n",
      "4192/4192 [==============================] - 10s 2ms/step - loss: 0.0080 - val_loss: 0.0078\n",
      "Epoch 8/600\n",
      "4192/4192 [==============================] - 10s 2ms/step - loss: 0.0079 - val_loss: 0.0078\n",
      "Epoch 00008: early stopping\n"
     ]
    },
    {
     "name": "stderr",
     "output_type": "stream",
     "text": [
      "<ipython-input-7-3da047f01ae9>:49: SettingWithCopyWarning: \n",
      "A value is trying to be set on a copy of a slice from a DataFrame.\n",
      "Try using .loc[row_indexer,col_indexer] = value instead\n",
      "\n",
      "See the caveats in the documentation: https://pandas.pydata.org/pandas-docs/stable/user_guide/indexing.html#returning-a-view-versus-a-copy\n",
      "  yorg_test['prediction'] = model.predict(X_test)\n"
     ]
    },
    {
     "name": "stdout",
     "output_type": "stream",
     "text": [
      "Epoch 1/600\n",
      "4433/4433 [==============================] - 11s 2ms/step - loss: 0.0211 - val_loss: 0.0089\n",
      "Epoch 2/600\n",
      "4433/4433 [==============================] - 10s 2ms/step - loss: 0.0080 - val_loss: 0.0088\n",
      "Epoch 3/600\n",
      "4433/4433 [==============================] - 10s 2ms/step - loss: 0.0079 - val_loss: 0.0088\n",
      "Epoch 4/600\n",
      "4433/4433 [==============================] - 10s 2ms/step - loss: 0.0078 - val_loss: 0.0088\n",
      "Epoch 5/600\n",
      "4433/4433 [==============================] - 10s 2ms/step - loss: 0.0077 - val_loss: 0.0087\n",
      "Epoch 6/600\n",
      "4433/4433 [==============================] - 10s 2ms/step - loss: 0.0077 - val_loss: 0.0087\n",
      "Epoch 7/600\n",
      "4433/4433 [==============================] - 10s 2ms/step - loss: 0.0077 - val_loss: 0.0086\n",
      "Epoch 8/600\n",
      "4433/4433 [==============================] - 10s 2ms/step - loss: 0.0076 - val_loss: 0.0088\n",
      "Epoch 9/600\n",
      "4433/4433 [==============================] - 10s 2ms/step - loss: 0.0076 - val_loss: 0.0087\n",
      "Epoch 00009: early stopping\n"
     ]
    },
    {
     "name": "stderr",
     "output_type": "stream",
     "text": [
      "<ipython-input-7-3da047f01ae9>:49: SettingWithCopyWarning: \n",
      "A value is trying to be set on a copy of a slice from a DataFrame.\n",
      "Try using .loc[row_indexer,col_indexer] = value instead\n",
      "\n",
      "See the caveats in the documentation: https://pandas.pydata.org/pandas-docs/stable/user_guide/indexing.html#returning-a-view-versus-a-copy\n",
      "  yorg_test['prediction'] = model.predict(X_test)\n"
     ]
    },
    {
     "name": "stdout",
     "output_type": "stream",
     "text": [
      "Epoch 1/600\n",
      "4667/4667 [==============================] - 12s 2ms/step - loss: 0.0153 - val_loss: 0.0090\n",
      "Epoch 2/600\n",
      "4667/4667 [==============================] - 11s 2ms/step - loss: 0.0080 - val_loss: 0.0087\n",
      "Epoch 3/600\n",
      "4667/4667 [==============================] - 11s 2ms/step - loss: 0.0080 - val_loss: 0.0087\n",
      "Epoch 4/600\n",
      "4667/4667 [==============================] - 11s 2ms/step - loss: 0.0079 - val_loss: 0.0088\n",
      "Epoch 00004: early stopping\n"
     ]
    },
    {
     "name": "stderr",
     "output_type": "stream",
     "text": [
      "<ipython-input-7-3da047f01ae9>:49: SettingWithCopyWarning: \n",
      "A value is trying to be set on a copy of a slice from a DataFrame.\n",
      "Try using .loc[row_indexer,col_indexer] = value instead\n",
      "\n",
      "See the caveats in the documentation: https://pandas.pydata.org/pandas-docs/stable/user_guide/indexing.html#returning-a-view-versus-a-copy\n",
      "  yorg_test['prediction'] = model.predict(X_test)\n"
     ]
    },
    {
     "name": "stdout",
     "output_type": "stream",
     "text": [
      "Epoch 1/600\n",
      "4889/4889 [==============================] - 13s 2ms/step - loss: 0.0170 - val_loss: 0.0087\n",
      "Epoch 2/600\n",
      "4889/4889 [==============================] - 11s 2ms/step - loss: 0.0080 - val_loss: 0.0087\n",
      "Epoch 3/600\n",
      "4889/4889 [==============================] - 11s 2ms/step - loss: 0.0079 - val_loss: 0.0087\n",
      "Epoch 4/600\n",
      "4889/4889 [==============================] - 11s 2ms/step - loss: 0.0079 - val_loss: 0.0087\n",
      "Epoch 5/600\n",
      "4889/4889 [==============================] - 11s 2ms/step - loss: 0.0079 - val_loss: 0.0087\n",
      "Epoch 6/600\n",
      "4889/4889 [==============================] - 11s 2ms/step - loss: 0.0078 - val_loss: 0.0086\n",
      "Epoch 7/600\n",
      "4889/4889 [==============================] - 11s 2ms/step - loss: 0.0078 - val_loss: 0.0086\n",
      "Epoch 8/600\n",
      "4889/4889 [==============================] - 11s 2ms/step - loss: 0.0078 - val_loss: 0.0087\n",
      "Epoch 9/600\n",
      "4889/4889 [==============================] - 11s 2ms/step - loss: 0.0077 - val_loss: 0.0087\n",
      "Epoch 00009: early stopping\n"
     ]
    },
    {
     "name": "stderr",
     "output_type": "stream",
     "text": [
      "<ipython-input-7-3da047f01ae9>:49: SettingWithCopyWarning: \n",
      "A value is trying to be set on a copy of a slice from a DataFrame.\n",
      "Try using .loc[row_indexer,col_indexer] = value instead\n",
      "\n",
      "See the caveats in the documentation: https://pandas.pydata.org/pandas-docs/stable/user_guide/indexing.html#returning-a-view-versus-a-copy\n",
      "  yorg_test['prediction'] = model.predict(X_test)\n"
     ]
    },
    {
     "name": "stdout",
     "output_type": "stream",
     "text": [
      "Epoch 1/600\n",
      "5158/5158 [==============================] - 13s 2ms/step - loss: 0.0100 - val_loss: 0.0085\n",
      "Epoch 2/600\n",
      "5158/5158 [==============================] - 12s 2ms/step - loss: 0.0080 - val_loss: 0.0084\n",
      "Epoch 3/600\n",
      "5158/5158 [==============================] - 12s 2ms/step - loss: 0.0079 - val_loss: 0.0085\n",
      "Epoch 4/600\n",
      "5158/5158 [==============================] - 12s 2ms/step - loss: 0.0079 - val_loss: 0.0085\n",
      "Epoch 00004: early stopping\n"
     ]
    },
    {
     "name": "stderr",
     "output_type": "stream",
     "text": [
      "<ipython-input-7-3da047f01ae9>:49: SettingWithCopyWarning: \n",
      "A value is trying to be set on a copy of a slice from a DataFrame.\n",
      "Try using .loc[row_indexer,col_indexer] = value instead\n",
      "\n",
      "See the caveats in the documentation: https://pandas.pydata.org/pandas-docs/stable/user_guide/indexing.html#returning-a-view-versus-a-copy\n",
      "  yorg_test['prediction'] = model.predict(X_test)\n"
     ]
    },
    {
     "name": "stdout",
     "output_type": "stream",
     "text": [
      "Epoch 1/600\n",
      "5396/5396 [==============================] - 14s 2ms/step - loss: 0.0129 - val_loss: 0.0086\n",
      "Epoch 2/600\n",
      "5396/5396 [==============================] - 12s 2ms/step - loss: 0.0080 - val_loss: 0.0086\n",
      "Epoch 3/600\n",
      "5396/5396 [==============================] - 12s 2ms/step - loss: 0.0079 - val_loss: 0.0086\n",
      "Epoch 4/600\n",
      "5396/5396 [==============================] - 12s 2ms/step - loss: 0.0079 - val_loss: 0.0085\n",
      "Epoch 5/600\n",
      "5396/5396 [==============================] - 12s 2ms/step - loss: 0.0078 - val_loss: 0.0086\n",
      "Epoch 6/600\n",
      "5396/5396 [==============================] - 12s 2ms/step - loss: 0.0078 - val_loss: 0.0086\n",
      "Epoch 00006: early stopping\n"
     ]
    },
    {
     "name": "stderr",
     "output_type": "stream",
     "text": [
      "<ipython-input-7-3da047f01ae9>:49: SettingWithCopyWarning: \n",
      "A value is trying to be set on a copy of a slice from a DataFrame.\n",
      "Try using .loc[row_indexer,col_indexer] = value instead\n",
      "\n",
      "See the caveats in the documentation: https://pandas.pydata.org/pandas-docs/stable/user_guide/indexing.html#returning-a-view-versus-a-copy\n",
      "  yorg_test['prediction'] = model.predict(X_test)\n"
     ]
    },
    {
     "name": "stdout",
     "output_type": "stream",
     "text": [
      "Epoch 1/600\n",
      "5541/5541 [==============================] - 14s 2ms/step - loss: 0.0139 - val_loss: 0.0085\n",
      "Epoch 2/600\n",
      "5541/5541 [==============================] - 12s 2ms/step - loss: 0.0083 - val_loss: 0.0084\n",
      "Epoch 3/600\n",
      "5541/5541 [==============================] - 12s 2ms/step - loss: 0.0082 - val_loss: 0.0084\n",
      "Epoch 4/600\n",
      "5541/5541 [==============================] - 13s 2ms/step - loss: 0.0082 - val_loss: 0.0084\n",
      "Epoch 00004: early stopping\n"
     ]
    },
    {
     "name": "stderr",
     "output_type": "stream",
     "text": [
      "<ipython-input-7-3da047f01ae9>:49: SettingWithCopyWarning: \n",
      "A value is trying to be set on a copy of a slice from a DataFrame.\n",
      "Try using .loc[row_indexer,col_indexer] = value instead\n",
      "\n",
      "See the caveats in the documentation: https://pandas.pydata.org/pandas-docs/stable/user_guide/indexing.html#returning-a-view-versus-a-copy\n",
      "  yorg_test['prediction'] = model.predict(X_test)\n"
     ]
    },
    {
     "name": "stdout",
     "output_type": "stream",
     "text": [
      "Epoch 1/600\n",
      "5751/5751 [==============================] - 15s 2ms/step - loss: 0.0131 - val_loss: 0.0081\n",
      "Epoch 2/600\n",
      "5751/5751 [==============================] - 13s 2ms/step - loss: 0.0082 - val_loss: 0.0081\n",
      "Epoch 3/600\n",
      "5751/5751 [==============================] - 13s 2ms/step - loss: 0.0082 - val_loss: 0.0080\n",
      "Epoch 4/600\n",
      "5751/5751 [==============================] - 13s 2ms/step - loss: 0.0081 - val_loss: 0.0081\n",
      "Epoch 5/600\n",
      "5751/5751 [==============================] - 13s 2ms/step - loss: 0.0080 - val_loss: 0.0080\n",
      "Epoch 6/600\n",
      "5751/5751 [==============================] - 13s 2ms/step - loss: 0.0080 - val_loss: 0.0079\n",
      "Epoch 7/600\n",
      "5751/5751 [==============================] - 13s 2ms/step - loss: 0.0080 - val_loss: 0.0080\n",
      "Epoch 8/600\n",
      "5751/5751 [==============================] - 13s 2ms/step - loss: 0.0080 - val_loss: 0.0080\n",
      "Epoch 00008: early stopping\n"
     ]
    },
    {
     "name": "stderr",
     "output_type": "stream",
     "text": [
      "<ipython-input-7-3da047f01ae9>:49: SettingWithCopyWarning: \n",
      "A value is trying to be set on a copy of a slice from a DataFrame.\n",
      "Try using .loc[row_indexer,col_indexer] = value instead\n",
      "\n",
      "See the caveats in the documentation: https://pandas.pydata.org/pandas-docs/stable/user_guide/indexing.html#returning-a-view-versus-a-copy\n",
      "  yorg_test['prediction'] = model.predict(X_test)\n"
     ]
    },
    {
     "name": "stdout",
     "output_type": "stream",
     "text": [
      "Epoch 1/600\n",
      "5990/5990 [==============================] - 15s 2ms/step - loss: 0.0106 - val_loss: 0.0079\n",
      "Epoch 2/600\n",
      "5990/5990 [==============================] - 13s 2ms/step - loss: 0.0079 - val_loss: 0.0080\n",
      "Epoch 3/600\n",
      "5990/5990 [==============================] - 13s 2ms/step - loss: 0.0079 - val_loss: 0.0081\n",
      "Epoch 00003: early stopping\n"
     ]
    },
    {
     "name": "stderr",
     "output_type": "stream",
     "text": [
      "<ipython-input-7-3da047f01ae9>:49: SettingWithCopyWarning: \n",
      "A value is trying to be set on a copy of a slice from a DataFrame.\n",
      "Try using .loc[row_indexer,col_indexer] = value instead\n",
      "\n",
      "See the caveats in the documentation: https://pandas.pydata.org/pandas-docs/stable/user_guide/indexing.html#returning-a-view-versus-a-copy\n",
      "  yorg_test['prediction'] = model.predict(X_test)\n"
     ]
    },
    {
     "name": "stdout",
     "output_type": "stream",
     "text": [
      "Epoch 1/600\n",
      "6184/6184 [==============================] - 15s 2ms/step - loss: 0.0104 - val_loss: 0.0084\n",
      "Epoch 2/600\n",
      "6184/6184 [==============================] - 13s 2ms/step - loss: 0.0081 - val_loss: 0.0081\n",
      "Epoch 3/600\n",
      "6184/6184 [==============================] - 13s 2ms/step - loss: 0.0080 - val_loss: 0.0081\n",
      "Epoch 4/600\n",
      "6184/6184 [==============================] - 13s 2ms/step - loss: 0.0079 - val_loss: 0.0081\n",
      "Epoch 5/600\n",
      "6184/6184 [==============================] - 13s 2ms/step - loss: 0.0079 - val_loss: 0.0080\n",
      "Epoch 6/600\n",
      "6184/6184 [==============================] - 13s 2ms/step - loss: 0.0079 - val_loss: 0.0081\n",
      "Epoch 7/600\n",
      "6184/6184 [==============================] - 13s 2ms/step - loss: 0.0079 - val_loss: 0.0082\n",
      "Epoch 00007: early stopping\n"
     ]
    },
    {
     "name": "stderr",
     "output_type": "stream",
     "text": [
      "<ipython-input-7-3da047f01ae9>:49: SettingWithCopyWarning: \n",
      "A value is trying to be set on a copy of a slice from a DataFrame.\n",
      "Try using .loc[row_indexer,col_indexer] = value instead\n",
      "\n",
      "See the caveats in the documentation: https://pandas.pydata.org/pandas-docs/stable/user_guide/indexing.html#returning-a-view-versus-a-copy\n",
      "  yorg_test['prediction'] = model.predict(X_test)\n"
     ]
    },
    {
     "name": "stdout",
     "output_type": "stream",
     "text": [
      "Epoch 1/600\n",
      "6394/6394 [==============================] - 15s 2ms/step - loss: 0.0124 - val_loss: 0.0085\n",
      "Epoch 2/600\n",
      "6394/6394 [==============================] - 14s 2ms/step - loss: 0.0083 - val_loss: 0.0084\n",
      "Epoch 3/600\n",
      "6394/6394 [==============================] - 14s 2ms/step - loss: 0.0083 - val_loss: 0.0084\n",
      "Epoch 4/600\n",
      "6394/6394 [==============================] - 14s 2ms/step - loss: 0.0082 - val_loss: 0.0084\n",
      "Epoch 5/600\n",
      "6394/6394 [==============================] - 14s 2ms/step - loss: 0.0082 - val_loss: 0.0084\n",
      "Epoch 00005: early stopping\n"
     ]
    },
    {
     "name": "stderr",
     "output_type": "stream",
     "text": [
      "<ipython-input-7-3da047f01ae9>:49: SettingWithCopyWarning: \n",
      "A value is trying to be set on a copy of a slice from a DataFrame.\n",
      "Try using .loc[row_indexer,col_indexer] = value instead\n",
      "\n",
      "See the caveats in the documentation: https://pandas.pydata.org/pandas-docs/stable/user_guide/indexing.html#returning-a-view-versus-a-copy\n",
      "  yorg_test['prediction'] = model.predict(X_test)\n"
     ]
    },
    {
     "name": "stdout",
     "output_type": "stream",
     "text": [
      "Epoch 1/600\n",
      "6540/6540 [==============================] - 15s 2ms/step - loss: 0.0105 - val_loss: 0.0084\n",
      "Epoch 2/600\n",
      "6540/6540 [==============================] - 14s 2ms/step - loss: 0.0085 - val_loss: 0.0083\n",
      "Epoch 3/600\n",
      "6540/6540 [==============================] - 14s 2ms/step - loss: 0.0084 - val_loss: 0.0083\n",
      "Epoch 4/600\n",
      "6540/6540 [==============================] - 14s 2ms/step - loss: 0.0084 - val_loss: 0.0083\n",
      "Epoch 5/600\n",
      "6540/6540 [==============================] - 14s 2ms/step - loss: 0.0084 - val_loss: 0.0083\n",
      "Epoch 6/600\n",
      "6540/6540 [==============================] - 14s 2ms/step - loss: 0.0083 - val_loss: 0.0083\n",
      "Epoch 7/600\n",
      "6540/6540 [==============================] - 14s 2ms/step - loss: 0.0083 - val_loss: 0.0083\n",
      "Epoch 00007: early stopping\n"
     ]
    },
    {
     "name": "stderr",
     "output_type": "stream",
     "text": [
      "<ipython-input-7-3da047f01ae9>:49: SettingWithCopyWarning: \n",
      "A value is trying to be set on a copy of a slice from a DataFrame.\n",
      "Try using .loc[row_indexer,col_indexer] = value instead\n",
      "\n",
      "See the caveats in the documentation: https://pandas.pydata.org/pandas-docs/stable/user_guide/indexing.html#returning-a-view-versus-a-copy\n",
      "  yorg_test['prediction'] = model.predict(X_test)\n"
     ]
    },
    {
     "name": "stdout",
     "output_type": "stream",
     "text": [
      "Epoch 1/600\n",
      "6630/6630 [==============================] - 16s 2ms/step - loss: 0.0109 - val_loss: 0.0088\n",
      "Epoch 2/600\n",
      "6630/6630 [==============================] - 15s 2ms/step - loss: 0.0083 - val_loss: 0.0087\n",
      "Epoch 3/600\n",
      "6630/6630 [==============================] - 14s 2ms/step - loss: 0.0083 - val_loss: 0.0087\n",
      "Epoch 4/600\n",
      "6630/6630 [==============================] - 14s 2ms/step - loss: 0.0082 - val_loss: 0.0086\n",
      "Epoch 5/600\n",
      "6630/6630 [==============================] - 14s 2ms/step - loss: 0.0082 - val_loss: 0.0087\n",
      "Epoch 6/600\n",
      "6630/6630 [==============================] - 14s 2ms/step - loss: 0.0082 - val_loss: 0.0086\n",
      "Epoch 7/600\n",
      "6630/6630 [==============================] - 14s 2ms/step - loss: 0.0082 - val_loss: 0.0086\n",
      "Epoch 8/600\n",
      "6630/6630 [==============================] - 14s 2ms/step - loss: 0.0082 - val_loss: 0.0086\n",
      "Epoch 00008: early stopping\n"
     ]
    },
    {
     "name": "stderr",
     "output_type": "stream",
     "text": [
      "<ipython-input-7-3da047f01ae9>:49: SettingWithCopyWarning: \n",
      "A value is trying to be set on a copy of a slice from a DataFrame.\n",
      "Try using .loc[row_indexer,col_indexer] = value instead\n",
      "\n",
      "See the caveats in the documentation: https://pandas.pydata.org/pandas-docs/stable/user_guide/indexing.html#returning-a-view-versus-a-copy\n",
      "  yorg_test['prediction'] = model.predict(X_test)\n"
     ]
    },
    {
     "name": "stdout",
     "output_type": "stream",
     "text": [
      "Epoch 1/600\n",
      "6692/6692 [==============================] - 16s 2ms/step - loss: 0.0122 - val_loss: 0.0089\n",
      "Epoch 2/600\n",
      "6692/6692 [==============================] - 15s 2ms/step - loss: 0.0084 - val_loss: 0.0090\n",
      "Epoch 3/600\n",
      "6692/6692 [==============================] - 15s 2ms/step - loss: 0.0085 - val_loss: 0.0090\n",
      "Epoch 00003: early stopping\n"
     ]
    },
    {
     "name": "stderr",
     "output_type": "stream",
     "text": [
      "<ipython-input-7-3da047f01ae9>:49: SettingWithCopyWarning: \n",
      "A value is trying to be set on a copy of a slice from a DataFrame.\n",
      "Try using .loc[row_indexer,col_indexer] = value instead\n",
      "\n",
      "See the caveats in the documentation: https://pandas.pydata.org/pandas-docs/stable/user_guide/indexing.html#returning-a-view-versus-a-copy\n",
      "  yorg_test['prediction'] = model.predict(X_test)\n"
     ]
    },
    {
     "name": "stdout",
     "output_type": "stream",
     "text": [
      "Epoch 1/600\n",
      "6652/6652 [==============================] - 16s 2ms/step - loss: 0.0091 - val_loss: 0.0089\n",
      "Epoch 2/600\n",
      "6652/6652 [==============================] - 15s 2ms/step - loss: 0.0083 - val_loss: 0.0089\n",
      "Epoch 3/600\n",
      "6652/6652 [==============================] - 15s 2ms/step - loss: 0.0082 - val_loss: 0.0089\n",
      "Epoch 4/600\n",
      "6652/6652 [==============================] - 15s 2ms/step - loss: 0.0082 - val_loss: 0.0088\n",
      "Epoch 5/600\n",
      "6652/6652 [==============================] - 15s 2ms/step - loss: 0.0081 - val_loss: 0.0087\n",
      "Epoch 6/600\n",
      "6652/6652 [==============================] - 15s 2ms/step - loss: 0.0081 - val_loss: 0.0088\n",
      "Epoch 7/600\n",
      "6652/6652 [==============================] - 15s 2ms/step - loss: 0.0081 - val_loss: 0.0088\n",
      "Epoch 00007: early stopping\n"
     ]
    },
    {
     "name": "stderr",
     "output_type": "stream",
     "text": [
      "<ipython-input-7-3da047f01ae9>:49: SettingWithCopyWarning: \n",
      "A value is trying to be set on a copy of a slice from a DataFrame.\n",
      "Try using .loc[row_indexer,col_indexer] = value instead\n",
      "\n",
      "See the caveats in the documentation: https://pandas.pydata.org/pandas-docs/stable/user_guide/indexing.html#returning-a-view-versus-a-copy\n",
      "  yorg_test['prediction'] = model.predict(X_test)\n"
     ]
    },
    {
     "name": "stdout",
     "output_type": "stream",
     "text": [
      "Epoch 1/600\n",
      "6715/6715 [==============================] - 17s 2ms/step - loss: 0.0208 - val_loss: 0.0092\n",
      "Epoch 2/600\n",
      "6715/6715 [==============================] - 15s 2ms/step - loss: 0.0085 - val_loss: 0.0090\n",
      "Epoch 3/600\n",
      "6715/6715 [==============================] - 15s 2ms/step - loss: 0.0085 - val_loss: 0.0090\n",
      "Epoch 4/600\n",
      "6715/6715 [==============================] - 15s 2ms/step - loss: 0.0085 - val_loss: 0.0090\n",
      "Epoch 5/600\n",
      "6715/6715 [==============================] - 15s 2ms/step - loss: 0.0084 - val_loss: 0.0090\n",
      "Epoch 6/600\n",
      "6715/6715 [==============================] - 15s 2ms/step - loss: 0.0084 - val_loss: 0.0089\n",
      "Epoch 7/600\n",
      "6715/6715 [==============================] - 15s 2ms/step - loss: 0.0084 - val_loss: 0.0089\n",
      "Epoch 8/600\n",
      "6715/6715 [==============================] - 15s 2ms/step - loss: 0.0083 - val_loss: 0.0089\n",
      "Epoch 9/600\n",
      "6715/6715 [==============================] - 15s 2ms/step - loss: 0.0083 - val_loss: 0.0089\n",
      "Epoch 00009: early stopping\n"
     ]
    },
    {
     "name": "stderr",
     "output_type": "stream",
     "text": [
      "<ipython-input-7-3da047f01ae9>:49: SettingWithCopyWarning: \n",
      "A value is trying to be set on a copy of a slice from a DataFrame.\n",
      "Try using .loc[row_indexer,col_indexer] = value instead\n",
      "\n",
      "See the caveats in the documentation: https://pandas.pydata.org/pandas-docs/stable/user_guide/indexing.html#returning-a-view-versus-a-copy\n",
      "  yorg_test['prediction'] = model.predict(X_test)\n"
     ]
    },
    {
     "name": "stdout",
     "output_type": "stream",
     "text": [
      "Epoch 1/600\n",
      "6835/6835 [==============================] - 17s 2ms/step - loss: 0.0169 - val_loss: 0.0095\n",
      "Epoch 2/600\n",
      "6835/6835 [==============================] - 16s 2ms/step - loss: 0.0085 - val_loss: 0.0094\n",
      "Epoch 3/600\n",
      "6835/6835 [==============================] - 16s 2ms/step - loss: 0.0083 - val_loss: 0.0092\n",
      "Epoch 4/600\n",
      "6835/6835 [==============================] - 16s 2ms/step - loss: 0.0082 - val_loss: 0.0092\n",
      "Epoch 5/600\n",
      "6835/6835 [==============================] - 16s 2ms/step - loss: 0.0082 - val_loss: 0.0093\n",
      "Epoch 6/600\n",
      "6835/6835 [==============================] - 16s 2ms/step - loss: 0.0082 - val_loss: 0.0092\n",
      "Epoch 7/600\n",
      "6835/6835 [==============================] - 16s 2ms/step - loss: 0.0082 - val_loss: 0.0092\n",
      "Epoch 8/600\n",
      "6835/6835 [==============================] - 16s 2ms/step - loss: 0.0081 - val_loss: 0.0092\n",
      "Epoch 00008: early stopping\n"
     ]
    },
    {
     "name": "stderr",
     "output_type": "stream",
     "text": [
      "<ipython-input-7-3da047f01ae9>:49: SettingWithCopyWarning: \n",
      "A value is trying to be set on a copy of a slice from a DataFrame.\n",
      "Try using .loc[row_indexer,col_indexer] = value instead\n",
      "\n",
      "See the caveats in the documentation: https://pandas.pydata.org/pandas-docs/stable/user_guide/indexing.html#returning-a-view-versus-a-copy\n",
      "  yorg_test['prediction'] = model.predict(X_test)\n"
     ]
    },
    {
     "name": "stdout",
     "output_type": "stream",
     "text": [
      "Epoch 1/600\n",
      "6998/6998 [==============================] - 18s 2ms/step - loss: 0.0161 - val_loss: 0.0103\n",
      "Epoch 2/600\n",
      "6998/6998 [==============================] - 16s 2ms/step - loss: 0.0084 - val_loss: 0.0102\n",
      "Epoch 3/600\n",
      "6998/6998 [==============================] - 16s 2ms/step - loss: 0.0083 - val_loss: 0.0102\n",
      "Epoch 4/600\n",
      "6998/6998 [==============================] - 16s 2ms/step - loss: 0.0083 - val_loss: 0.0101\n",
      "Epoch 5/600\n",
      "6998/6998 [==============================] - 16s 2ms/step - loss: 0.0082 - val_loss: 0.0102\n",
      "Epoch 6/600\n",
      "6998/6998 [==============================] - 16s 2ms/step - loss: 0.0082 - val_loss: 0.0102\n",
      "Epoch 00006: early stopping\n"
     ]
    },
    {
     "name": "stderr",
     "output_type": "stream",
     "text": [
      "<ipython-input-7-3da047f01ae9>:49: SettingWithCopyWarning: \n",
      "A value is trying to be set on a copy of a slice from a DataFrame.\n",
      "Try using .loc[row_indexer,col_indexer] = value instead\n",
      "\n",
      "See the caveats in the documentation: https://pandas.pydata.org/pandas-docs/stable/user_guide/indexing.html#returning-a-view-versus-a-copy\n",
      "  yorg_test['prediction'] = model.predict(X_test)\n"
     ]
    },
    {
     "name": "stdout",
     "output_type": "stream",
     "text": [
      "Epoch 1/600\n",
      "7231/7231 [==============================] - 18s 2ms/step - loss: 0.0108 - val_loss: 0.0117\n",
      "Epoch 2/600\n",
      "7231/7231 [==============================] - 17s 2ms/step - loss: 0.0083 - val_loss: 0.0116\n",
      "Epoch 3/600\n",
      "7231/7231 [==============================] - 17s 2ms/step - loss: 0.0083 - val_loss: 0.0115\n",
      "Epoch 4/600\n",
      "7231/7231 [==============================] - 16s 2ms/step - loss: 0.0083 - val_loss: 0.0116\n",
      "Epoch 5/600\n",
      "7231/7231 [==============================] - 16s 2ms/step - loss: 0.0082 - val_loss: 0.0117\n",
      "Epoch 00005: early stopping\n"
     ]
    },
    {
     "name": "stderr",
     "output_type": "stream",
     "text": [
      "<ipython-input-7-3da047f01ae9>:49: SettingWithCopyWarning: \n",
      "A value is trying to be set on a copy of a slice from a DataFrame.\n",
      "Try using .loc[row_indexer,col_indexer] = value instead\n",
      "\n",
      "See the caveats in the documentation: https://pandas.pydata.org/pandas-docs/stable/user_guide/indexing.html#returning-a-view-versus-a-copy\n",
      "  yorg_test['prediction'] = model.predict(X_test)\n"
     ]
    },
    {
     "name": "stdout",
     "output_type": "stream",
     "text": [
      "Epoch 1/600\n",
      "7537/7537 [==============================] - 18s 2ms/step - loss: 0.0157 - val_loss: 0.0127\n",
      "Epoch 2/600\n",
      "7537/7537 [==============================] - 17s 2ms/step - loss: 0.0085 - val_loss: 0.0126\n",
      "Epoch 3/600\n",
      "7537/7537 [==============================] - 17s 2ms/step - loss: 0.0085 - val_loss: 0.0126\n",
      "Epoch 4/600\n",
      "7537/7537 [==============================] - 17s 2ms/step - loss: 0.0084 - val_loss: 0.0126\n",
      "Epoch 5/600\n",
      "7537/7537 [==============================] - 17s 2ms/step - loss: 0.0084 - val_loss: 0.0125\n",
      "Epoch 6/600\n",
      "7537/7537 [==============================] - 17s 2ms/step - loss: 0.0084 - val_loss: 0.0125\n",
      "Epoch 7/600\n",
      "7537/7537 [==============================] - 17s 2ms/step - loss: 0.0084 - val_loss: 0.0125\n",
      "Epoch 8/600\n",
      "7537/7537 [==============================] - 17s 2ms/step - loss: 0.0084 - val_loss: 0.0125\n",
      "Epoch 00008: early stopping\n"
     ]
    },
    {
     "name": "stderr",
     "output_type": "stream",
     "text": [
      "<ipython-input-7-3da047f01ae9>:49: SettingWithCopyWarning: \n",
      "A value is trying to be set on a copy of a slice from a DataFrame.\n",
      "Try using .loc[row_indexer,col_indexer] = value instead\n",
      "\n",
      "See the caveats in the documentation: https://pandas.pydata.org/pandas-docs/stable/user_guide/indexing.html#returning-a-view-versus-a-copy\n",
      "  yorg_test['prediction'] = model.predict(X_test)\n"
     ]
    },
    {
     "name": "stdout",
     "output_type": "stream",
     "text": [
      "Epoch 1/600\n",
      "7843/7843 [==============================] - 19s 2ms/step - loss: 0.0155 - val_loss: 0.0130\n",
      "Epoch 2/600\n",
      "7843/7843 [==============================] - 17s 2ms/step - loss: 0.0088 - val_loss: 0.0131\n",
      "Epoch 3/600\n",
      "7843/7843 [==============================] - 17s 2ms/step - loss: 0.0087 - val_loss: 0.0129\n",
      "Epoch 4/600\n",
      "7843/7843 [==============================] - 17s 2ms/step - loss: 0.0086 - val_loss: 0.0129\n",
      "Epoch 5/600\n",
      "7843/7843 [==============================] - 17s 2ms/step - loss: 0.0086 - val_loss: 0.0129\n",
      "Epoch 6/600\n",
      "7843/7843 [==============================] - 17s 2ms/step - loss: 0.0086 - val_loss: 0.0129\n",
      "Epoch 00006: early stopping\n"
     ]
    },
    {
     "name": "stderr",
     "output_type": "stream",
     "text": [
      "<ipython-input-7-3da047f01ae9>:49: SettingWithCopyWarning: \n",
      "A value is trying to be set on a copy of a slice from a DataFrame.\n",
      "Try using .loc[row_indexer,col_indexer] = value instead\n",
      "\n",
      "See the caveats in the documentation: https://pandas.pydata.org/pandas-docs/stable/user_guide/indexing.html#returning-a-view-versus-a-copy\n",
      "  yorg_test['prediction'] = model.predict(X_test)\n"
     ]
    },
    {
     "name": "stdout",
     "output_type": "stream",
     "text": [
      "Epoch 1/600\n",
      "8193/8193 [==============================] - 19s 2ms/step - loss: 0.0101 - val_loss: 0.0132\n",
      "Epoch 2/600\n",
      "8193/8193 [==============================] - 18s 2ms/step - loss: 0.0089 - val_loss: 0.0131\n",
      "Epoch 3/600\n",
      "8193/8193 [==============================] - 18s 2ms/step - loss: 0.0088 - val_loss: 0.0131\n",
      "Epoch 4/600\n",
      "8193/8193 [==============================] - 18s 2ms/step - loss: 0.0088 - val_loss: 0.0131\n",
      "Epoch 5/600\n",
      "8193/8193 [==============================] - 18s 2ms/step - loss: 0.0088 - val_loss: 0.0130\n",
      "Epoch 6/600\n",
      "8193/8193 [==============================] - 18s 2ms/step - loss: 0.0088 - val_loss: 0.0130\n",
      "Epoch 7/600\n",
      "8193/8193 [==============================] - 18s 2ms/step - loss: 0.0088 - val_loss: 0.0131\n",
      "Epoch 00007: early stopping\n"
     ]
    },
    {
     "name": "stderr",
     "output_type": "stream",
     "text": [
      "<ipython-input-7-3da047f01ae9>:49: SettingWithCopyWarning: \n",
      "A value is trying to be set on a copy of a slice from a DataFrame.\n",
      "Try using .loc[row_indexer,col_indexer] = value instead\n",
      "\n",
      "See the caveats in the documentation: https://pandas.pydata.org/pandas-docs/stable/user_guide/indexing.html#returning-a-view-versus-a-copy\n",
      "  yorg_test['prediction'] = model.predict(X_test)\n"
     ]
    },
    {
     "name": "stdout",
     "output_type": "stream",
     "text": [
      "Epoch 1/600\n",
      "8458/8458 [==============================] - 20s 2ms/step - loss: 0.0116 - val_loss: 0.0122\n",
      "Epoch 2/600\n",
      "8458/8458 [==============================] - 18s 2ms/step - loss: 0.0096 - val_loss: 0.0121\n",
      "Epoch 3/600\n",
      "8458/8458 [==============================] - 18s 2ms/step - loss: 0.0096 - val_loss: 0.0121\n",
      "Epoch 4/600\n",
      "8458/8458 [==============================] - 18s 2ms/step - loss: 0.0095 - val_loss: 0.0121\n",
      "Epoch 5/600\n",
      "8458/8458 [==============================] - 18s 2ms/step - loss: 0.0095 - val_loss: 0.0121\n",
      "Epoch 6/600\n",
      "8458/8458 [==============================] - 18s 2ms/step - loss: 0.0095 - val_loss: 0.0120\n",
      "Epoch 7/600\n",
      "8458/8458 [==============================] - 18s 2ms/step - loss: 0.0094 - val_loss: 0.0121\n",
      "Epoch 8/600\n",
      "8458/8458 [==============================] - 18s 2ms/step - loss: 0.0094 - val_loss: 0.0119\n",
      "Epoch 9/600\n",
      "8458/8458 [==============================] - 18s 2ms/step - loss: 0.0094 - val_loss: 0.0120\n",
      "Epoch 10/600\n",
      "8458/8458 [==============================] - 18s 2ms/step - loss: 0.0094 - val_loss: 0.0121\n",
      "Epoch 00010: early stopping\n"
     ]
    },
    {
     "name": "stderr",
     "output_type": "stream",
     "text": [
      "<ipython-input-7-3da047f01ae9>:49: SettingWithCopyWarning: \n",
      "A value is trying to be set on a copy of a slice from a DataFrame.\n",
      "Try using .loc[row_indexer,col_indexer] = value instead\n",
      "\n",
      "See the caveats in the documentation: https://pandas.pydata.org/pandas-docs/stable/user_guide/indexing.html#returning-a-view-versus-a-copy\n",
      "  yorg_test['prediction'] = model.predict(X_test)\n"
     ]
    },
    {
     "name": "stdout",
     "output_type": "stream",
     "text": [
      "Epoch 1/600\n",
      "8745/8745 [==============================] - 20s 2ms/step - loss: 0.0122 - val_loss: 0.0106\n",
      "Epoch 2/600\n",
      "8745/8745 [==============================] - 18s 2ms/step - loss: 0.0104 - val_loss: 0.0103\n",
      "Epoch 3/600\n",
      "8745/8745 [==============================] - 18s 2ms/step - loss: 0.0103 - val_loss: 0.0105\n",
      "Epoch 4/600\n",
      "8745/8745 [==============================] - 18s 2ms/step - loss: 0.0102 - val_loss: 0.0104\n",
      "Epoch 00004: early stopping\n"
     ]
    },
    {
     "name": "stderr",
     "output_type": "stream",
     "text": [
      "<ipython-input-7-3da047f01ae9>:49: SettingWithCopyWarning: \n",
      "A value is trying to be set on a copy of a slice from a DataFrame.\n",
      "Try using .loc[row_indexer,col_indexer] = value instead\n",
      "\n",
      "See the caveats in the documentation: https://pandas.pydata.org/pandas-docs/stable/user_guide/indexing.html#returning-a-view-versus-a-copy\n",
      "  yorg_test['prediction'] = model.predict(X_test)\n"
     ]
    },
    {
     "name": "stdout",
     "output_type": "stream",
     "text": [
      "Epoch 1/600\n",
      "8952/8952 [==============================] - 20s 2ms/step - loss: 0.0132 - val_loss: 0.0089\n",
      "Epoch 2/600\n",
      "8952/8952 [==============================] - 18s 2ms/step - loss: 0.0109 - val_loss: 0.0086\n",
      "Epoch 3/600\n",
      "8952/8952 [==============================] - 18s 2ms/step - loss: 0.0108 - val_loss: 0.0086\n",
      "Epoch 4/600\n",
      "8952/8952 [==============================] - 19s 2ms/step - loss: 0.0107 - val_loss: 0.0086\n",
      "Epoch 00004: early stopping\n"
     ]
    },
    {
     "name": "stderr",
     "output_type": "stream",
     "text": [
      "<ipython-input-7-3da047f01ae9>:49: SettingWithCopyWarning: \n",
      "A value is trying to be set on a copy of a slice from a DataFrame.\n",
      "Try using .loc[row_indexer,col_indexer] = value instead\n",
      "\n",
      "See the caveats in the documentation: https://pandas.pydata.org/pandas-docs/stable/user_guide/indexing.html#returning-a-view-versus-a-copy\n",
      "  yorg_test['prediction'] = model.predict(X_test)\n"
     ]
    },
    {
     "name": "stdout",
     "output_type": "stream",
     "text": [
      "Epoch 1/600\n",
      "8976/8976 [==============================] - 20s 2ms/step - loss: 0.0128 - val_loss: 0.0079\n",
      "Epoch 2/600\n",
      "8976/8976 [==============================] - 19s 2ms/step - loss: 0.0110 - val_loss: 0.0077\n",
      "Epoch 3/600\n",
      "8976/8976 [==============================] - 19s 2ms/step - loss: 0.0109 - val_loss: 0.0077\n",
      "Epoch 4/600\n",
      "8976/8976 [==============================] - 19s 2ms/step - loss: 0.0108 - val_loss: 0.0076\n",
      "Epoch 5/600\n",
      "8976/8976 [==============================] - 19s 2ms/step - loss: 0.0108 - val_loss: 0.0077\n",
      "Epoch 6/600\n",
      "8976/8976 [==============================] - 19s 2ms/step - loss: 0.0108 - val_loss: 0.0076\n",
      "Epoch 7/600\n",
      "8976/8976 [==============================] - 18s 2ms/step - loss: 0.0108 - val_loss: 0.0077\n",
      "Epoch 8/600\n",
      "8976/8976 [==============================] - 18s 2ms/step - loss: 0.0107 - val_loss: 0.0077\n",
      "Epoch 00008: early stopping\n"
     ]
    },
    {
     "name": "stderr",
     "output_type": "stream",
     "text": [
      "<ipython-input-7-3da047f01ae9>:49: SettingWithCopyWarning: \n",
      "A value is trying to be set on a copy of a slice from a DataFrame.\n",
      "Try using .loc[row_indexer,col_indexer] = value instead\n",
      "\n",
      "See the caveats in the documentation: https://pandas.pydata.org/pandas-docs/stable/user_guide/indexing.html#returning-a-view-versus-a-copy\n",
      "  yorg_test['prediction'] = model.predict(X_test)\n"
     ]
    },
    {
     "name": "stdout",
     "output_type": "stream",
     "text": [
      "Epoch 1/600\n",
      "8839/8839 [==============================] - 20s 2ms/step - loss: 0.0158 - val_loss: 0.0077\n",
      "Epoch 2/600\n",
      "8839/8839 [==============================] - 18s 2ms/step - loss: 0.0110 - val_loss: 0.0078\n",
      "Epoch 3/600\n",
      "8839/8839 [==============================] - 18s 2ms/step - loss: 0.0110 - val_loss: 0.0077\n",
      "Epoch 4/600\n",
      "8839/8839 [==============================] - 18s 2ms/step - loss: 0.0109 - val_loss: 0.0077\n",
      "Epoch 5/600\n",
      "8839/8839 [==============================] - 18s 2ms/step - loss: 0.0109 - val_loss: 0.0077\n",
      "Epoch 6/600\n",
      "8839/8839 [==============================] - 18s 2ms/step - loss: 0.0108 - val_loss: 0.0077\n",
      "Epoch 7/600\n",
      "8839/8839 [==============================] - 18s 2ms/step - loss: 0.0108 - val_loss: 0.0077\n",
      "Epoch 8/600\n",
      "8839/8839 [==============================] - 18s 2ms/step - loss: 0.0108 - val_loss: 0.0077\n",
      "Epoch 00008: early stopping\n"
     ]
    },
    {
     "name": "stderr",
     "output_type": "stream",
     "text": [
      "<ipython-input-7-3da047f01ae9>:49: SettingWithCopyWarning: \n",
      "A value is trying to be set on a copy of a slice from a DataFrame.\n",
      "Try using .loc[row_indexer,col_indexer] = value instead\n",
      "\n",
      "See the caveats in the documentation: https://pandas.pydata.org/pandas-docs/stable/user_guide/indexing.html#returning-a-view-versus-a-copy\n",
      "  yorg_test['prediction'] = model.predict(X_test)\n"
     ]
    },
    {
     "name": "stdout",
     "output_type": "stream",
     "text": [
      "Epoch 1/600\n",
      "8672/8672 [==============================] - 19s 2ms/step - loss: 0.0158 - val_loss: 0.0085\n",
      "Epoch 2/600\n",
      "8672/8672 [==============================] - 18s 2ms/step - loss: 0.0111 - val_loss: 0.0085\n",
      "Epoch 3/600\n",
      "8672/8672 [==============================] - 18s 2ms/step - loss: 0.0111 - val_loss: 0.0085\n",
      "Epoch 4/600\n",
      "8672/8672 [==============================] - 18s 2ms/step - loss: 0.0110 - val_loss: 0.0085\n",
      "Epoch 5/600\n",
      "8672/8672 [==============================] - 18s 2ms/step - loss: 0.0109 - val_loss: 0.0085\n",
      "Epoch 6/600\n",
      "8672/8672 [==============================] - 18s 2ms/step - loss: 0.0109 - val_loss: 0.0085\n",
      "Epoch 7/600\n",
      "8672/8672 [==============================] - 18s 2ms/step - loss: 0.0109 - val_loss: 0.0085\n",
      "Epoch 00007: early stopping\n"
     ]
    },
    {
     "name": "stderr",
     "output_type": "stream",
     "text": [
      "<ipython-input-7-3da047f01ae9>:49: SettingWithCopyWarning: \n",
      "A value is trying to be set on a copy of a slice from a DataFrame.\n",
      "Try using .loc[row_indexer,col_indexer] = value instead\n",
      "\n",
      "See the caveats in the documentation: https://pandas.pydata.org/pandas-docs/stable/user_guide/indexing.html#returning-a-view-versus-a-copy\n",
      "  yorg_test['prediction'] = model.predict(X_test)\n"
     ]
    },
    {
     "name": "stdout",
     "output_type": "stream",
     "text": [
      "Epoch 1/600\n",
      "8472/8472 [==============================] - 19s 2ms/step - loss: 0.0257 - val_loss: 0.0087\n",
      "Epoch 2/600\n",
      "8472/8472 [==============================] - 18s 2ms/step - loss: 0.0112 - val_loss: 0.0089\n",
      "Epoch 3/600\n",
      "8472/8472 [==============================] - 17s 2ms/step - loss: 0.0114 - val_loss: 0.0089\n",
      "Epoch 00003: early stopping\n"
     ]
    },
    {
     "name": "stderr",
     "output_type": "stream",
     "text": [
      "<ipython-input-7-3da047f01ae9>:49: SettingWithCopyWarning: \n",
      "A value is trying to be set on a copy of a slice from a DataFrame.\n",
      "Try using .loc[row_indexer,col_indexer] = value instead\n",
      "\n",
      "See the caveats in the documentation: https://pandas.pydata.org/pandas-docs/stable/user_guide/indexing.html#returning-a-view-versus-a-copy\n",
      "  yorg_test['prediction'] = model.predict(X_test)\n"
     ]
    },
    {
     "name": "stdout",
     "output_type": "stream",
     "text": [
      "Epoch 1/600\n",
      "8199/8199 [==============================] - 18s 2ms/step - loss: 0.0222 - val_loss: 0.0090\n",
      "Epoch 2/600\n",
      "8199/8199 [==============================] - 17s 2ms/step - loss: 0.0110 - val_loss: 0.0088\n",
      "Epoch 3/600\n",
      "8199/8199 [==============================] - 17s 2ms/step - loss: 0.0108 - val_loss: 0.0088\n",
      "Epoch 4/600\n",
      "8199/8199 [==============================] - 17s 2ms/step - loss: 0.0108 - val_loss: 0.0088\n",
      "Epoch 00004: early stopping\n"
     ]
    },
    {
     "name": "stderr",
     "output_type": "stream",
     "text": [
      "<ipython-input-7-3da047f01ae9>:49: SettingWithCopyWarning: \n",
      "A value is trying to be set on a copy of a slice from a DataFrame.\n",
      "Try using .loc[row_indexer,col_indexer] = value instead\n",
      "\n",
      "See the caveats in the documentation: https://pandas.pydata.org/pandas-docs/stable/user_guide/indexing.html#returning-a-view-versus-a-copy\n",
      "  yorg_test['prediction'] = model.predict(X_test)\n"
     ]
    },
    {
     "name": "stdout",
     "output_type": "stream",
     "text": [
      "Epoch 1/600\n",
      "7881/7881 [==============================] - 18s 2ms/step - loss: 0.0133 - val_loss: 0.0091\n",
      "Epoch 2/600\n",
      "7881/7881 [==============================] - 16s 2ms/step - loss: 0.0106 - val_loss: 0.0091\n",
      "Epoch 3/600\n",
      "7881/7881 [==============================] - 16s 2ms/step - loss: 0.0105 - val_loss: 0.0091\n",
      "Epoch 4/600\n",
      "7881/7881 [==============================] - 16s 2ms/step - loss: 0.0105 - val_loss: 0.0091\n",
      "Epoch 5/600\n",
      "7881/7881 [==============================] - 16s 2ms/step - loss: 0.0104 - val_loss: 0.0091\n",
      "Epoch 00005: early stopping\n"
     ]
    },
    {
     "name": "stderr",
     "output_type": "stream",
     "text": [
      "<ipython-input-7-3da047f01ae9>:49: SettingWithCopyWarning: \n",
      "A value is trying to be set on a copy of a slice from a DataFrame.\n",
      "Try using .loc[row_indexer,col_indexer] = value instead\n",
      "\n",
      "See the caveats in the documentation: https://pandas.pydata.org/pandas-docs/stable/user_guide/indexing.html#returning-a-view-versus-a-copy\n",
      "  yorg_test['prediction'] = model.predict(X_test)\n"
     ]
    },
    {
     "name": "stdout",
     "output_type": "stream",
     "text": [
      "Epoch 1/600\n",
      "7506/7506 [==============================] - 17s 2ms/step - loss: 0.0116 - val_loss: 0.0084\n",
      "Epoch 2/600\n",
      "7506/7506 [==============================] - 15s 2ms/step - loss: 0.0107 - val_loss: 0.0084\n",
      "Epoch 3/600\n",
      "7506/7506 [==============================] - 15s 2ms/step - loss: 0.0105 - val_loss: 0.0084\n",
      "Epoch 4/600\n",
      "7506/7506 [==============================] - 15s 2ms/step - loss: 0.0105 - val_loss: 0.0084\n",
      "Epoch 5/600\n",
      "7506/7506 [==============================] - 15s 2ms/step - loss: 0.0104 - val_loss: 0.0084\n",
      "Epoch 6/600\n",
      "7506/7506 [==============================] - 15s 2ms/step - loss: 0.0104 - val_loss: 0.0084\n",
      "Epoch 7/600\n",
      "7506/7506 [==============================] - 15s 2ms/step - loss: 0.0104 - val_loss: 0.0084\n",
      "Epoch 8/600\n",
      "7506/7506 [==============================] - 15s 2ms/step - loss: 0.0103 - val_loss: 0.0085\n",
      "Epoch 00008: early stopping\n"
     ]
    },
    {
     "name": "stderr",
     "output_type": "stream",
     "text": [
      "<ipython-input-7-3da047f01ae9>:49: SettingWithCopyWarning: \n",
      "A value is trying to be set on a copy of a slice from a DataFrame.\n",
      "Try using .loc[row_indexer,col_indexer] = value instead\n",
      "\n",
      "See the caveats in the documentation: https://pandas.pydata.org/pandas-docs/stable/user_guide/indexing.html#returning-a-view-versus-a-copy\n",
      "  yorg_test['prediction'] = model.predict(X_test)\n"
     ]
    },
    {
     "name": "stdout",
     "output_type": "stream",
     "text": [
      "Epoch 1/600\n",
      "7095/7095 [==============================] - 16s 2ms/step - loss: 0.0128 - val_loss: 0.0072\n",
      "Epoch 2/600\n",
      "7095/7095 [==============================] - 15s 2ms/step - loss: 0.0103 - val_loss: 0.0072\n",
      "Epoch 3/600\n",
      "7095/7095 [==============================] - 14s 2ms/step - loss: 0.0102 - val_loss: 0.0071\n",
      "Epoch 4/600\n",
      "7095/7095 [==============================] - 14s 2ms/step - loss: 0.0102 - val_loss: 0.0072\n",
      "Epoch 5/600\n",
      "7095/7095 [==============================] - 15s 2ms/step - loss: 0.0102 - val_loss: 0.0071\n",
      "Epoch 00005: early stopping\n"
     ]
    },
    {
     "name": "stderr",
     "output_type": "stream",
     "text": [
      "<ipython-input-7-3da047f01ae9>:49: SettingWithCopyWarning: \n",
      "A value is trying to be set on a copy of a slice from a DataFrame.\n",
      "Try using .loc[row_indexer,col_indexer] = value instead\n",
      "\n",
      "See the caveats in the documentation: https://pandas.pydata.org/pandas-docs/stable/user_guide/indexing.html#returning-a-view-versus-a-copy\n",
      "  yorg_test['prediction'] = model.predict(X_test)\n"
     ]
    },
    {
     "name": "stdout",
     "output_type": "stream",
     "text": [
      "Epoch 1/600\n",
      "6711/6711 [==============================] - 15s 2ms/step - loss: 0.0113 - val_loss: 0.0071\n",
      "Epoch 2/600\n",
      "6711/6711 [==============================] - 14s 2ms/step - loss: 0.0095 - val_loss: 0.0070\n",
      "Epoch 3/600\n",
      "6711/6711 [==============================] - 14s 2ms/step - loss: 0.0094 - val_loss: 0.0069\n",
      "Epoch 4/600\n",
      "6711/6711 [==============================] - 14s 2ms/step - loss: 0.0093 - val_loss: 0.0070\n",
      "Epoch 5/600\n",
      "6711/6711 [==============================] - 14s 2ms/step - loss: 0.0093 - val_loss: 0.0070\n",
      "Epoch 00005: early stopping\n"
     ]
    },
    {
     "name": "stderr",
     "output_type": "stream",
     "text": [
      "<ipython-input-7-3da047f01ae9>:49: SettingWithCopyWarning: \n",
      "A value is trying to be set on a copy of a slice from a DataFrame.\n",
      "Try using .loc[row_indexer,col_indexer] = value instead\n",
      "\n",
      "See the caveats in the documentation: https://pandas.pydata.org/pandas-docs/stable/user_guide/indexing.html#returning-a-view-versus-a-copy\n",
      "  yorg_test['prediction'] = model.predict(X_test)\n"
     ]
    },
    {
     "name": "stdout",
     "output_type": "stream",
     "text": [
      "Epoch 1/600\n",
      "6470/6470 [==============================] - 15s 2ms/step - loss: 0.0129 - val_loss: 0.0073\n",
      "Epoch 2/600\n",
      "6470/6470 [==============================] - 14s 2ms/step - loss: 0.0089 - val_loss: 0.0073\n",
      "Epoch 3/600\n",
      "6470/6470 [==============================] - 14s 2ms/step - loss: 0.0087 - val_loss: 0.0072\n",
      "Epoch 4/600\n",
      "6470/6470 [==============================] - 14s 2ms/step - loss: 0.0086 - val_loss: 0.0071\n",
      "Epoch 5/600\n",
      "6470/6470 [==============================] - 13s 2ms/step - loss: 0.0086 - val_loss: 0.0071\n",
      "Epoch 6/600\n",
      "6470/6470 [==============================] - 14s 2ms/step - loss: 0.0085 - val_loss: 0.0071\n",
      "Epoch 00006: early stopping\n"
     ]
    },
    {
     "name": "stderr",
     "output_type": "stream",
     "text": [
      "<ipython-input-7-3da047f01ae9>:49: SettingWithCopyWarning: \n",
      "A value is trying to be set on a copy of a slice from a DataFrame.\n",
      "Try using .loc[row_indexer,col_indexer] = value instead\n",
      "\n",
      "See the caveats in the documentation: https://pandas.pydata.org/pandas-docs/stable/user_guide/indexing.html#returning-a-view-versus-a-copy\n",
      "  yorg_test['prediction'] = model.predict(X_test)\n"
     ]
    },
    {
     "name": "stdout",
     "output_type": "stream",
     "text": [
      "Epoch 1/600\n",
      "6295/6295 [==============================] - 15s 2ms/step - loss: 0.0122 - val_loss: 0.0071\n",
      "Epoch 2/600\n",
      "6295/6295 [==============================] - 13s 2ms/step - loss: 0.0083 - val_loss: 0.0071\n",
      "Epoch 3/600\n",
      "6295/6295 [==============================] - 13s 2ms/step - loss: 0.0083 - val_loss: 0.0071\n",
      "Epoch 4/600\n",
      "6295/6295 [==============================] - 13s 2ms/step - loss: 0.0082 - val_loss: 0.0071\n",
      "Epoch 5/600\n",
      "6295/6295 [==============================] - 13s 2ms/step - loss: 0.0082 - val_loss: 0.0071\n",
      "Epoch 6/600\n",
      "6295/6295 [==============================] - 13s 2ms/step - loss: 0.0082 - val_loss: 0.0071\n",
      "Epoch 7/600\n",
      "6295/6295 [==============================] - 13s 2ms/step - loss: 0.0082 - val_loss: 0.0071\n",
      "Epoch 8/600\n",
      "6295/6295 [==============================] - 13s 2ms/step - loss: 0.0082 - val_loss: 0.0071\n",
      "Epoch 00008: early stopping\n"
     ]
    },
    {
     "name": "stderr",
     "output_type": "stream",
     "text": [
      "<ipython-input-7-3da047f01ae9>:49: SettingWithCopyWarning: \n",
      "A value is trying to be set on a copy of a slice from a DataFrame.\n",
      "Try using .loc[row_indexer,col_indexer] = value instead\n",
      "\n",
      "See the caveats in the documentation: https://pandas.pydata.org/pandas-docs/stable/user_guide/indexing.html#returning-a-view-versus-a-copy\n",
      "  yorg_test['prediction'] = model.predict(X_test)\n"
     ]
    },
    {
     "name": "stdout",
     "output_type": "stream",
     "text": [
      "Epoch 1/600\n",
      "6199/6199 [==============================] - 14s 2ms/step - loss: 0.0099 - val_loss: 0.0073\n",
      "Epoch 2/600\n",
      "6199/6199 [==============================] - 13s 2ms/step - loss: 0.0080 - val_loss: 0.0073\n",
      "Epoch 3/600\n",
      "6199/6199 [==============================] - 13s 2ms/step - loss: 0.0080 - val_loss: 0.0073\n",
      "Epoch 4/600\n",
      "6199/6199 [==============================] - 13s 2ms/step - loss: 0.0080 - val_loss: 0.0073\n",
      "Epoch 5/600\n",
      "6199/6199 [==============================] - 13s 2ms/step - loss: 0.0079 - val_loss: 0.0073\n",
      "Epoch 6/600\n",
      "6199/6199 [==============================] - 13s 2ms/step - loss: 0.0079 - val_loss: 0.0073\n",
      "Epoch 7/600\n",
      "6199/6199 [==============================] - 13s 2ms/step - loss: 0.0079 - val_loss: 0.0073\n",
      "Epoch 8/600\n",
      "6199/6199 [==============================] - 13s 2ms/step - loss: 0.0079 - val_loss: 0.0073\n",
      "Epoch 9/600\n",
      "6199/6199 [==============================] - 13s 2ms/step - loss: 0.0079 - val_loss: 0.0073\n",
      "Epoch 10/600\n",
      "6199/6199 [==============================] - 13s 2ms/step - loss: 0.0079 - val_loss: 0.0073\n",
      "Epoch 11/600\n",
      "6199/6199 [==============================] - 13s 2ms/step - loss: 0.0079 - val_loss: 0.0073\n",
      "Epoch 00011: early stopping\n"
     ]
    },
    {
     "name": "stderr",
     "output_type": "stream",
     "text": [
      "<ipython-input-7-3da047f01ae9>:49: SettingWithCopyWarning: \n",
      "A value is trying to be set on a copy of a slice from a DataFrame.\n",
      "Try using .loc[row_indexer,col_indexer] = value instead\n",
      "\n",
      "See the caveats in the documentation: https://pandas.pydata.org/pandas-docs/stable/user_guide/indexing.html#returning-a-view-versus-a-copy\n",
      "  yorg_test['prediction'] = model.predict(X_test)\n"
     ]
    },
    {
     "name": "stdout",
     "output_type": "stream",
     "text": [
      "Epoch 1/600\n",
      "6049/6049 [==============================] - 14s 2ms/step - loss: 0.0095 - val_loss: 0.0076\n",
      "Epoch 2/600\n",
      "6049/6049 [==============================] - 13s 2ms/step - loss: 0.0079 - val_loss: 0.0078\n",
      "Epoch 3/600\n",
      "6049/6049 [==============================] - 13s 2ms/step - loss: 0.0080 - val_loss: 0.0077\n",
      "Epoch 00003: early stopping\n"
     ]
    },
    {
     "name": "stderr",
     "output_type": "stream",
     "text": [
      "<ipython-input-7-3da047f01ae9>:49: SettingWithCopyWarning: \n",
      "A value is trying to be set on a copy of a slice from a DataFrame.\n",
      "Try using .loc[row_indexer,col_indexer] = value instead\n",
      "\n",
      "See the caveats in the documentation: https://pandas.pydata.org/pandas-docs/stable/user_guide/indexing.html#returning-a-view-versus-a-copy\n",
      "  yorg_test['prediction'] = model.predict(X_test)\n"
     ]
    }
   ],
   "source": [
    "y_pred = []\n",
    "y_pred_val = []\n",
    "y_pred_test = []\n",
    "loss = []\n",
    "model_list = []\n",
    "y_org = []\n",
    "y_org_val = []\n",
    "y_org_test = []\n",
    "y_reff = []\n",
    "y_reff_val = []\n",
    "y_reff_test = []\n",
    "for retrain_idx in range(42):\n",
    "    retrain_idx\n",
    "    X = Z_eff.iloc[train_start[retrain_idx]:train_end[retrain_idx],:]\n",
    "    X_idx = X.apply(pd.Series.nunique) != 1\n",
    "    X = X.loc[:,X_idx]\n",
    "    X_val = Z_eff.loc[val_start[retrain_idx]:val_end[retrain_idx],X_idx]\n",
    "    X_test = Z_eff.loc[test_start[retrain_idx]:test_end[retrain_idx],X_idx]\n",
    "    y =R_eff.iloc[train_start[retrain_idx]:train_end[retrain_idx],:]\n",
    "    y_val = R_eff.loc[val_start[retrain_idx]:val_end[retrain_idx],:]\n",
    "    y_test = R_eff.loc[test_start[retrain_idx]:test_end[retrain_idx],:]\n",
    "    yorg = R_org_eff.iloc[train_start[retrain_idx]:train_end[retrain_idx],:]\n",
    "    yorg_val = R_org_eff.loc[val_start[retrain_idx]:val_end[retrain_idx],:]\n",
    "    yorg_test=R_org_eff.loc[test_start[retrain_idx]:test_end[retrain_idx],:]\n",
    "    model = Sequential()\n",
    "    model.add(LayerNormalization())\n",
    "    model.add(Dense(64,activation='relu'))\n",
    "    model.add(BatchNormalization())\n",
    "    model.add(Dense(32,activation='relu'))\n",
    "    model.add(BatchNormalization())\n",
    "    model.add(Dense(16,activation='relu'))\n",
    "    model.add(BatchNormalization())\n",
    "    model.add(Dense(8,activation='relu'))\n",
    "    model.add(BatchNormalization())\n",
    "    model.add(Dense(4,activation='relu'))\n",
    "    model.add(Dense(1))\n",
    "    model.compile(optimizer='adam',loss='mse')\n",
    "    history = model.fit(x=X,y=y,validation_data=(X_val,y_val), batch_size=64,epochs=600,verbose=1,callbacks=[early_stop])\n",
    "    y_pred.append(model.predict(X))\n",
    "    y_pred_val.append(model.predict(X_val))\n",
    "    y_pred_test.append(model.predict(X_test))\n",
    "    model_list.append(model)\n",
    "    loss.append(min(history.history['val_loss']))\n",
    "    model_list.append(model)\n",
    "    yorg_test['prediction'] = model.predict(X_test)\n",
    "    y_org_test.append(yorg_test)\n",
    "    \n",
    "    \n",
    "\n",
    "\n",
    "    \n",
    "    \n",
    "    "
   ]
  },
  {
   "cell_type": "code",
   "execution_count": 8,
   "metadata": {},
   "outputs": [
    {
     "name": "stderr",
     "output_type": "stream",
     "text": [
      "/apps/spack/scholar/fall20/apps/anaconda/2020.11-py38-gcc-4.8.5-djkvkvk/lib/python3.8/site-packages/numpy/core/fromnumeric.py:3372: RuntimeWarning: Mean of empty slice.\n",
      "  return _methods._mean(a, axis=axis, dtype=dtype,\n",
      "/apps/spack/scholar/fall20/apps/anaconda/2020.11-py38-gcc-4.8.5-djkvkvk/lib/python3.8/site-packages/numpy/core/_methods.py:170: RuntimeWarning: invalid value encountered in double_scalars\n",
      "  ret = ret.dtype.type(ret / rcount)\n"
     ]
    }
   ],
   "source": [
    "portf_ret_nn_test = []\n",
    "for retrain_idx in range(42):\n",
    "    for i in range(t_test_start[retrain_idx],t_test_end[retrain_idx]):\n",
    "        tesdd = y_org_test[retrain_idx].loc[group_ind[0][i]:group_ind[0][i+1],]\n",
    "        list_buy = [idx for idx, val in enumerate(tesdd['prediction']) if val > np.percentile(tesdd['prediction'],90)]\n",
    "        list_sell = [idx for idx, val in enumerate(tesdd['prediction']) if val < np.percentile(tesdd['prediction'],10)]\n",
    "        portf_ret_nn_test.append(np.mean([tesdd[0].to_list()[i] for i in list_buy]) - np.mean([tesdd[0].to_list()[i] for i in list_sell]))"
   ]
  },
  {
   "cell_type": "code",
   "execution_count": 10,
   "metadata": {
    "collapsed": true
   },
   "outputs": [],
   "source": [
    "portfolio = pd.DataFrame(portf_ret_nn_test,columns=['monthly_return'])"
   ]
  },
  {
   "cell_type": "code",
   "execution_count": null,
   "metadata": {
    "collapsed": true
   },
   "outputs": [],
   "source": []
  },
  {
   "cell_type": "code",
   "execution_count": 11,
   "metadata": {},
   "outputs": [
    {
     "data": {
      "text/plain": [
       "1.5841183058099282"
      ]
     },
     "execution_count": 11,
     "metadata": {},
     "output_type": "execute_result"
    }
   ],
   "source": [
    "portfolio['monthly_return'].mean()/portfolio['monthly_return'].std()"
   ]
  },
  {
   "cell_type": "code",
   "execution_count": null,
   "metadata": {
    "collapsed": true
   },
   "outputs": [],
   "source": [
    "portfolio.to_csv('portfolio.csv',index=False)"
   ]
  }
 ],
 "metadata": {
  "kernelspec": {
   "display_name": "Python 3.8 (Anaconda 2020.11)",
   "language": "python",
   "name": "anaconda-2020.11-py38"
  },
  "language_info": {
   "codemirror_mode": {
    "name": "ipython",
    "version": 3
   },
   "file_extension": ".py",
   "mimetype": "text/x-python",
   "name": "python",
   "nbconvert_exporter": "python",
   "pygments_lexer": "ipython3",
   "version": "3.8.5"
  }
 },
 "nbformat": 4,
 "nbformat_minor": 2
}
